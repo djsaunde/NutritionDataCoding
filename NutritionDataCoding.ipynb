{
 "cells": [
  {
   "cell_type": "code",
   "execution_count": 3,
   "metadata": {
    "collapsed": true
   },
   "outputs": [],
   "source": [
    "import openpyxl, re\n",
    "from openpyxl import Workbook"
   ]
  },
  {
   "cell_type": "markdown",
   "metadata": {},
   "source": [
    "#### We need the name of the workbook we are to modify."
   ]
  },
  {
   "cell_type": "code",
   "execution_count": 7,
   "metadata": {
    "collapsed": false
   },
   "outputs": [
    {
     "name": "stdout",
     "output_type": "stream",
     "text": [
      "Enter in the filename, in single or double quotes, of the workbook you'd like to modify: \"cereal.xlsx\"\n"
     ]
    }
   ],
   "source": [
    "file_name = input('Enter in the filename, in single or double quotes, of the workbook you\\'d like to modify: ')\n",
    "book = openpyxl.load_workbook(file_name)"
   ]
  },
  {
   "cell_type": "markdown",
   "metadata": {},
   "source": [
    "#### First, we will load the first spreadsheet in the workbook."
   ]
  },
  {
   "cell_type": "code",
   "execution_count": 8,
   "metadata": {
    "collapsed": false
   },
   "outputs": [],
   "source": [
    "sheet = book.active"
   ]
  },
  {
   "cell_type": "markdown",
   "metadata": {},
   "source": [
    "#### We create a new workbook, in which we place the restructured data."
   ]
  },
  {
   "cell_type": "code",
   "execution_count": 9,
   "metadata": {
    "collapsed": false
   },
   "outputs": [],
   "source": [
    "structured_book = Workbook()\n",
    "structured_sheet = structured_book.active\n",
    "structured_sheet.title = 'Restructured Nutrition Data'"
   ]
  },
  {
   "cell_type": "markdown",
   "metadata": {},
   "source": [
    "#### We create a method for checking possible product description matches, to be used in the main loop."
   ]
  },
  {
   "cell_type": "code",
   "execution_count": 10,
   "metadata": {
    "collapsed": true
   },
   "outputs": [],
   "source": [
    "def getProductDescription(tokens):\n",
    "    ret = ''\n",
    "    for token in tokens:\n",
    "        if any(char.isdigit() for char in token) or len(token) == 0 or 'except as noted' in token:\n",
    "            continue\n",
    "        else:\n",
    "            if ret == '':\n",
    "                ret = token.strip()\n",
    "            else:\n",
    "                ret += ', ' + token.strip()\n",
    "    return ret.strip().strip(':')"
   ]
  },
  {
   "cell_type": "markdown",
   "metadata": {},
   "source": [
    "#### We create a method for extracting serving size information, to be used in the main loop."
   ]
  },
  {
   "cell_type": "code",
   "execution_count": 22,
   "metadata": {
    "collapsed": false
   },
   "outputs": [],
   "source": [
    "def getServingSize(tokens):\n",
    "    for token in tokens: # loop through each token\n",
    "        if any(char.isdigit() for char in token) and '(' not in token: # looking for the token with the serving size data...\n",
    "            return token.replace('.', '').strip().strip(':')"
   ]
  },
  {
   "cell_type": "markdown",
   "metadata": {},
   "source": [
    "#### Here we have the main loop. For each row which contains nutrition information, we in turn must find the associated (1) Product Category, (2) Serving Size, and try to find its (3) Product Description, (4) Type, and (5) Brand Name, if they exist for the row's entry."
   ]
  },
  {
   "cell_type": "code",
   "execution_count": 23,
   "metadata": {
    "collapsed": false
   },
   "outputs": [],
   "source": [
    "last_product_category = 0\n",
    "last_product_description = ''\n",
    "last_type = 0\n",
    "last_brand_name = 0\n",
    "last_serving_size = 0\n",
    "\n",
    "# pointers to rows which contain these types of data points\n",
    "product_category_rows = []\n",
    "product_description_rows = []\n",
    "brand_name_rows = []\n",
    "\n",
    "# a pointer to where we are in the newly formatted spreadsheet\n",
    "structured_sheet_pointer = 0\n",
    "\n",
    "# the main loop\n",
    "for i, row in enumerate(sheet): # check each row for nutrition data\n",
    "    if row[1].value: # nutrition data always starts in row 2. if there is data in row 2, there is data in rows 2-8\n",
    "        \n",
    "        # get all the numerical nutrition data into the new sheet\n",
    "        nutrition_data = [sheet.cell(row=i+1, column=j).value for j in range(2,9)]\n",
    "        for j in range(6,13):\n",
    "            structured_sheet.cell(row=structured_sheet_pointer+1, column=j).value = nutrition_data[j-6]\n",
    "        \n",
    "        # find and store the product category (each entry must have one)\n",
    "        for j in range(i, last_product_category, -1): # check all previous rows up to last known product category row\n",
    "            # grab data in current cell, in the first column\n",
    "            current_cell = sheet.cell(row=j, column=1)\n",
    "            # if the cell is bold, we know that it contains product category information\n",
    "            if current_cell.style.font.bold and '(cont.)' not in current_cell.value:\n",
    "                # set the first column in the current row of the restructured sheet to this product category\n",
    "                # TODO: tidy this expression up so that it grabs the product category only\n",
    "                structured_sheet.cell(row=structured_sheet_pointer+1, column=1).value = current_cell.value.split(',')[0]\n",
    "                last_product_category = j-1\n",
    "                product_category_rows.append(j)\n",
    "                break\n",
    "                \n",
    "        # find and store the product description (if it exists)\n",
    "        for j in range(i, 0, -1): # check all previous rows up to last product category row\n",
    "            # grab data in current cell, in the first column\n",
    "            current_cell = sheet.cell(row=j, column=1)\n",
    "            # if the cell contains some text preceding a semicolon, it must contain a product description\n",
    "            if current_cell.value and ':' not in current_cell.value:\n",
    "                continue\n",
    "            if current_cell.style.font.bold:\n",
    "                product_description = 'NA'\n",
    "                break\n",
    "            else: # there must be a product description\n",
    "                if current_cell.value: # if the cell contains text\n",
    "                    cell_text = re.sub('\\(.*\\)', '', current_cell.value) # remove all parenthesized text\n",
    "                    cell_tokens = cell_text.split(',') # split the cell's text into chunks, separated by comma occurence\n",
    "                    product_description = getProductDescription(cell_tokens) # outsource implementation to method\n",
    "                    structured_sheet.cell(row=structured_sheet_pointer+1, column=2).value = product_description\n",
    "                    if product_description == '':\n",
    "                        continue\n",
    "                    last_product_description = product_description\n",
    "                    product_description_rows.append(j)\n",
    "                    break\n",
    "                \n",
    "        if not structured_sheet.cell(row=structured_sheet_pointer+1, column=2).value:\n",
    "            structured_sheet.cell(row=structured_sheet_pointer+1, column=2).value = 'NA'\n",
    "        \n",
    "        # find and store the type (if it exists)\n",
    "        for j in range(i, 0, -1): # check all previous rows up to the last product category row\n",
    "            # grab dat ain current cell, in the first column\n",
    "            current_cell = sheet.cell(row=j, column=1)\n",
    "\n",
    "        # find and store the brand name (if it exists)\n",
    "        for j in range(i+1, 0, -1):\n",
    "            # grab data in current cell, in the first column            \n",
    "            current_cell = sheet.cell(row=j, column=1)\n",
    "            # if the cell contains parenthesized text (not equal to cont.), it must contain brand name information\n",
    "            if current_cell.value and current_cell.value.find('(') != -1 and '(cont.)' not in current_cell.value:\n",
    "                # get the cell's text within parentheses; this is the brand name\n",
    "                brand_name = current_cell.value[current_cell.value.find(\"(\")+1:current_cell.value.find(\")\")]\n",
    "                structured_sheet.cell(row=structured_sheet_pointer+1, column=4).value = brand_name\n",
    "                brand_name_rows.append(j)\n",
    "                break\n",
    "                \n",
    "            elif j in product_category_rows or j in product_description_rows:\n",
    "                # there cannot be any brand name information before here\n",
    "                structured_sheet.cell(row=structured_sheet_pointer+1, column=4).value = 'NA'\n",
    "                break\n",
    "            \n",
    "        # find and store the serving size (each entry must have one)\n",
    "        for j in range(i+1, 0, -1): # check all previous rows up to the last product category row\n",
    "            # grab data in current cell, in the first column            \n",
    "            current_cell = sheet.cell(row=j, column=1)\n",
    "            # if the cell contains some numerical data, it will pertain to the serving size\n",
    "            if current_cell.value and any(char.isdigit() for char in current_cell.value) and j == i+1:\n",
    "                # split the cell's text by comma, looking for the token with numerical data\n",
    "                serving_size = getServingSize(current_cell.value.split(','))\n",
    "                \n",
    "                if serving_size:\n",
    "                    structured_sheet.cell(row=structured_sheet_pointer+1, column=5).value = serving_size\n",
    "                    break\n",
    "                else:\n",
    "                    continue\n",
    "                    \n",
    "            elif j in product_description_rows or j in product_category_rows:\n",
    "                # split the cell's text by comma, looking for the token with numerical data\n",
    "                serving_size = getServingSize(current_cell.value.split(','))\n",
    "                \n",
    "                if serving_size:\n",
    "                    structured_sheet.cell(row=structured_sheet_pointer+1, column=5).value = serving_size\n",
    "                    break\n",
    "                else:\n",
    "                    continue\n",
    "        \n",
    "        structured_sheet_pointer += 1\n",
    "\n",
    "structured_book.save('restructured_' + file_name)"
   ]
  },
  {
   "cell_type": "code",
   "execution_count": 19,
   "metadata": {
    "collapsed": false
   },
   "outputs": [],
   "source": [
    "column_widths = []\n",
    "for j, row in enumerate(structured_sheet):\n",
    "    for i, cell in enumerate(row):\n",
    "        if len(column_widths) > i:\n",
    "            try:\n",
    "                if len(cell.value) > column_widths[i]:\n",
    "                    column_widths[i] = len(cell.value)\n",
    "            except TypeError:\n",
    "                pass\n",
    "        else:\n",
    "            column_widths += [len(cell.value)]\n",
    "\n",
    "structured_sheet.column_dimensions[\"A\"].width = column_widths[0] + 2.0\n",
    "structured_sheet.column_dimensions[\"B\"].width = column_widths[1] + 2.0\n",
    "structured_sheet.column_dimensions[\"C\"].width = column_widths[2] + 2.0\n",
    "structured_sheet.column_dimensions[\"D\"].width = column_widths[3] + 2.0\n",
    "structured_sheet.column_dimensions[\"E\"].width = column_widths[4] + 2.0\n",
    "structured_sheet.column_dimensions[\"F\"].width = 6.0\n",
    "structured_sheet.column_dimensions[\"G\"].width = 6.0\n",
    "structured_sheet.column_dimensions[\"H\"].width = 6.0\n",
    "structured_sheet.column_dimensions[\"I\"].width = 6.0\n",
    "structured_sheet.column_dimensions[\"J\"].width = 6.0\n",
    "structured_sheet.column_dimensions[\"K\"].width = 6.0\n",
    "structured_sheet.column_dimensions[\"L\"].width = 6.0\n",
    "\n",
    "\n",
    "structured_book.save('restructured_' + file_name)"
   ]
  },
  {
   "cell_type": "code",
   "execution_count": null,
   "metadata": {
    "collapsed": true
   },
   "outputs": [],
   "source": []
  }
 ],
 "metadata": {
  "kernelspec": {
   "display_name": "Python 2",
   "language": "python",
   "name": "python2"
  },
  "language_info": {
   "codemirror_mode": {
    "name": "ipython",
    "version": 2
   },
   "file_extension": ".py",
   "mimetype": "text/x-python",
   "name": "python",
   "nbconvert_exporter": "python",
   "pygments_lexer": "ipython2",
   "version": "2.7.9"
  }
 },
 "nbformat": 4,
 "nbformat_minor": 0
}
